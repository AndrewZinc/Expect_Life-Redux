{
 "cells": [
  {
   "cell_type": "code",
   "execution_count": 1,
   "id": "39042728",
   "metadata": {},
   "outputs": [],
   "source": [
    "# Import our dependencies\n",
    "import pandas as pd\n",
    "import numpy as np\n",
    "from functools import reduce"
   ]
  },
  {
   "cell_type": "code",
   "execution_count": 2,
   "id": "473dd0f0",
   "metadata": {},
   "outputs": [],
   "source": [
    "#  Import and read the input csv\n",
    "cgs_df = pd.read_csv('../../Clean_Data/Clean_CSV_Files/cia-government_systems.csv')"
   ]
  },
  {
   "cell_type": "code",
   "execution_count": 3,
   "id": "0953d9aa",
   "metadata": {},
   "outputs": [],
   "source": [
    "# Open the list of country name corrections\n",
    "corrections_df = pd.read_csv('../../Clean_Data/master_country_list/country_name_corrections.csv', encoding='utf-8')\n",
    "\n",
    "# Convert the corrections dataframe to a dictionary.\n",
    "correction_dict = dict(zip(corrections_df['wrong'], corrections_df['correct']))"
   ]
  },
  {
   "cell_type": "code",
   "execution_count": 4,
   "id": "e9f3e0ee",
   "metadata": {},
   "outputs": [],
   "source": [
    "# Apply the correction dictionary to fix the known errors\n",
    "cgs_df['country'] = cgs_df['country'].replace(correction_dict)"
   ]
  },
  {
   "cell_type": "code",
   "execution_count": 5,
   "id": "5e35bfe7",
   "metadata": {},
   "outputs": [],
   "source": [
    "#  Import and read the input csv\n",
    "sss_df = pd.read_csv('../../Clean_Data/Clean_CSV_Files/country_social_security_systems-list.csv', encoding='utf-8')"
   ]
  },
  {
   "cell_type": "code",
   "execution_count": 6,
   "id": "97ec4cd1",
   "metadata": {},
   "outputs": [],
   "source": [
    "# Apply the correction dictionary to fix the known errors\n",
    "sss_df['country'] = sss_df['country'].replace(correction_dict)"
   ]
  },
  {
   "cell_type": "code",
   "execution_count": 7,
   "id": "5075bb0d",
   "metadata": {},
   "outputs": [],
   "source": [
    "# Open the master list of countries\n",
    "countries_df = pd.read_csv('../../Clean_Data/master_country_list/country_profile_urls.csv', encoding='utf-8')\n",
    "countries_df = countries_df.drop(['profile_url'], axis=1)"
   ]
  },
  {
   "cell_type": "code",
   "execution_count": 8,
   "id": "b6e081e2",
   "metadata": {},
   "outputs": [],
   "source": [
    "master_countries = countries_df['country'].tolist()"
   ]
  },
  {
   "cell_type": "code",
   "execution_count": 9,
   "id": "6d257b76",
   "metadata": {},
   "outputs": [],
   "source": [
    "# Define the range of years for the data\n",
    "years = list(range(1990, 2023))\n",
    "\n",
    "# Create a helper dataframe and merge with existing to ensure resulting df contains all countries and years\n",
    "helper_df = pd.DataFrame({'country':np.repeat(master_countries, len(years)), 'Year':np.tile(years, len(master_countries))})\n",
    "\n",
    "# Merge the helper DataFrame with the original data to ensure the data range is complete.\n",
    "frames = [helper_df, cgs_df, sss_df]\n",
    "complete_df = reduce(lambda left,right: pd.merge(left,right,how='left',on='country'),frames)\n",
    "\n",
    "# Sort by 'Country' and 'Year'.\n",
    "complete_df = complete_df.sort_values(['country','Year'], axis=0)\n",
    "\n",
    "# Create a \"country_year\" column\n",
    "complete_df['Country_Year'] = complete_df['country'] + '_' + complete_df['Year'].astype(str)\n",
    "\n",
    "# Get a list of the column names:\n",
    "cols = list(complete_df.columns)\n",
    "\n",
    "# Move the 'Country_Year' columnt to head of list using index(), pop() and insert()\n",
    "cols.insert(0, cols.pop(cols.index('Country_Year')))\n",
    "\n",
    "# Use loc to reorder the DataFrame:\n",
    "complete_df = complete_df.loc[:, cols]"
   ]
  },
  {
   "cell_type": "code",
   "execution_count": 10,
   "id": "028ee8bd",
   "metadata": {},
   "outputs": [
    {
     "data": {
      "text/html": [
       "<div>\n",
       "<style scoped>\n",
       "    .dataframe tbody tr th:only-of-type {\n",
       "        vertical-align: middle;\n",
       "    }\n",
       "\n",
       "    .dataframe tbody tr th {\n",
       "        vertical-align: top;\n",
       "    }\n",
       "\n",
       "    .dataframe thead th {\n",
       "        text-align: right;\n",
       "    }\n",
       "</style>\n",
       "<table border=\"1\" class=\"dataframe\">\n",
       "  <thead>\n",
       "    <tr style=\"text-align: right;\">\n",
       "      <th></th>\n",
       "      <th>Country_Year</th>\n",
       "      <th>country</th>\n",
       "      <th>Year</th>\n",
       "      <th>government_type</th>\n",
       "      <th>sss_depth</th>\n",
       "      <th>system_type</th>\n",
       "    </tr>\n",
       "  </thead>\n",
       "  <tbody>\n",
       "    <tr>\n",
       "      <th>0</th>\n",
       "      <td>Albania_1990</td>\n",
       "      <td>Albania</td>\n",
       "      <td>1990</td>\n",
       "      <td>parliamentary republic</td>\n",
       "      <td>2.0</td>\n",
       "      <td>Universal medical benefits,Social insurance (c...</td>\n",
       "    </tr>\n",
       "    <tr>\n",
       "      <th>1</th>\n",
       "      <td>Albania_1991</td>\n",
       "      <td>Albania</td>\n",
       "      <td>1991</td>\n",
       "      <td>parliamentary republic</td>\n",
       "      <td>2.0</td>\n",
       "      <td>Universal medical benefits,Social insurance (c...</td>\n",
       "    </tr>\n",
       "    <tr>\n",
       "      <th>2</th>\n",
       "      <td>Albania_1992</td>\n",
       "      <td>Albania</td>\n",
       "      <td>1992</td>\n",
       "      <td>parliamentary republic</td>\n",
       "      <td>2.0</td>\n",
       "      <td>Universal medical benefits,Social insurance (c...</td>\n",
       "    </tr>\n",
       "    <tr>\n",
       "      <th>3</th>\n",
       "      <td>Albania_1993</td>\n",
       "      <td>Albania</td>\n",
       "      <td>1993</td>\n",
       "      <td>parliamentary republic</td>\n",
       "      <td>2.0</td>\n",
       "      <td>Universal medical benefits,Social insurance (c...</td>\n",
       "    </tr>\n",
       "    <tr>\n",
       "      <th>4</th>\n",
       "      <td>Albania_1994</td>\n",
       "      <td>Albania</td>\n",
       "      <td>1994</td>\n",
       "      <td>parliamentary republic</td>\n",
       "      <td>2.0</td>\n",
       "      <td>Universal medical benefits,Social insurance (c...</td>\n",
       "    </tr>\n",
       "    <tr>\n",
       "      <th>...</th>\n",
       "      <td>...</td>\n",
       "      <td>...</td>\n",
       "      <td>...</td>\n",
       "      <td>...</td>\n",
       "      <td>...</td>\n",
       "      <td>...</td>\n",
       "    </tr>\n",
       "    <tr>\n",
       "      <th>6100</th>\n",
       "      <td>Zimbabwe_2018</td>\n",
       "      <td>Zimbabwe</td>\n",
       "      <td>2018</td>\n",
       "      <td>presidential republic</td>\n",
       "      <td>1.0</td>\n",
       "      <td>Employer-liability system (cash sickness and m...</td>\n",
       "    </tr>\n",
       "    <tr>\n",
       "      <th>6101</th>\n",
       "      <td>Zimbabwe_2019</td>\n",
       "      <td>Zimbabwe</td>\n",
       "      <td>2019</td>\n",
       "      <td>presidential republic</td>\n",
       "      <td>1.0</td>\n",
       "      <td>Employer-liability system (cash sickness and m...</td>\n",
       "    </tr>\n",
       "    <tr>\n",
       "      <th>6102</th>\n",
       "      <td>Zimbabwe_2020</td>\n",
       "      <td>Zimbabwe</td>\n",
       "      <td>2020</td>\n",
       "      <td>presidential republic</td>\n",
       "      <td>1.0</td>\n",
       "      <td>Employer-liability system (cash sickness and m...</td>\n",
       "    </tr>\n",
       "    <tr>\n",
       "      <th>6103</th>\n",
       "      <td>Zimbabwe_2021</td>\n",
       "      <td>Zimbabwe</td>\n",
       "      <td>2021</td>\n",
       "      <td>presidential republic</td>\n",
       "      <td>1.0</td>\n",
       "      <td>Employer-liability system (cash sickness and m...</td>\n",
       "    </tr>\n",
       "    <tr>\n",
       "      <th>6104</th>\n",
       "      <td>Zimbabwe_2022</td>\n",
       "      <td>Zimbabwe</td>\n",
       "      <td>2022</td>\n",
       "      <td>presidential republic</td>\n",
       "      <td>1.0</td>\n",
       "      <td>Employer-liability system (cash sickness and m...</td>\n",
       "    </tr>\n",
       "  </tbody>\n",
       "</table>\n",
       "<p>6105 rows × 6 columns</p>\n",
       "</div>"
      ],
      "text/plain": [
       "       Country_Year   country  Year         government_type  sss_depth  \\\n",
       "0      Albania_1990   Albania  1990  parliamentary republic        2.0   \n",
       "1      Albania_1991   Albania  1991  parliamentary republic        2.0   \n",
       "2      Albania_1992   Albania  1992  parliamentary republic        2.0   \n",
       "3      Albania_1993   Albania  1993  parliamentary republic        2.0   \n",
       "4      Albania_1994   Albania  1994  parliamentary republic        2.0   \n",
       "...             ...       ...   ...                     ...        ...   \n",
       "6100  Zimbabwe_2018  Zimbabwe  2018   presidential republic        1.0   \n",
       "6101  Zimbabwe_2019  Zimbabwe  2019   presidential republic        1.0   \n",
       "6102  Zimbabwe_2020  Zimbabwe  2020   presidential republic        1.0   \n",
       "6103  Zimbabwe_2021  Zimbabwe  2021   presidential republic        1.0   \n",
       "6104  Zimbabwe_2022  Zimbabwe  2022   presidential republic        1.0   \n",
       "\n",
       "                                            system_type  \n",
       "0     Universal medical benefits,Social insurance (c...  \n",
       "1     Universal medical benefits,Social insurance (c...  \n",
       "2     Universal medical benefits,Social insurance (c...  \n",
       "3     Universal medical benefits,Social insurance (c...  \n",
       "4     Universal medical benefits,Social insurance (c...  \n",
       "...                                                 ...  \n",
       "6100  Employer-liability system (cash sickness and m...  \n",
       "6101  Employer-liability system (cash sickness and m...  \n",
       "6102  Employer-liability system (cash sickness and m...  \n",
       "6103  Employer-liability system (cash sickness and m...  \n",
       "6104  Employer-liability system (cash sickness and m...  \n",
       "\n",
       "[6105 rows x 6 columns]"
      ]
     },
     "execution_count": 10,
     "metadata": {},
     "output_type": "execute_result"
    }
   ],
   "source": [
    "complete_df"
   ]
  },
  {
   "cell_type": "code",
   "execution_count": 11,
   "id": "ea634999",
   "metadata": {},
   "outputs": [],
   "source": [
    "complete_df.to_csv('../../Clean_Data/Clean_CSV_Files/gov_systems-ss_systems-complete.csv', encoding='utf-8', index=False)"
   ]
  },
  {
   "cell_type": "code",
   "execution_count": null,
   "id": "f08d7617",
   "metadata": {},
   "outputs": [],
   "source": []
  }
 ],
 "metadata": {
  "kernelspec": {
   "display_name": "gpu",
   "language": "python",
   "name": "gpu"
  },
  "language_info": {
   "codemirror_mode": {
    "name": "ipython",
    "version": 3
   },
   "file_extension": ".py",
   "mimetype": "text/x-python",
   "name": "python",
   "nbconvert_exporter": "python",
   "pygments_lexer": "ipython3",
   "version": "3.10.13"
  }
 },
 "nbformat": 4,
 "nbformat_minor": 5
}
